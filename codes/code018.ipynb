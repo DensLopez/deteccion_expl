{
 "cells": [
  {
   "cell_type": "markdown",
   "metadata": {},
   "source": [
    "# Eliminación de valores faltantes: Pairwise y Listwise"
   ]
  },
  {
   "cell_type": "markdown",
   "metadata": {},
   "source": [
    "Hasta el momento hemos estado analizando toda una posibilidad de valores faltantes; encontrándolos en distintas formas  y codificaciones, también logramos encontrar valores faltantes en los que ni siquiera nos imaginábamos que faltaban "
   ]
  }
 ],
 "metadata": {
  "language_info": {
   "name": "python"
  }
 },
 "nbformat": 4,
 "nbformat_minor": 2
}
