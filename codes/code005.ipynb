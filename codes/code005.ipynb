{
 "cells": [
  {
   "cell_type": "markdown",
   "metadata": {},
   "source": [
    "# Expandiendo la API de Pandas"
   ]
  },
  {
   "cell_type": "markdown",
   "metadata": {},
   "source": [
    "Vamos a empezara trabajar con los datos y nunca lo olvides correr los bloques de código pertenecientes a las librerías."
   ]
  },
  {
   "cell_type": "markdown",
   "metadata": {},
   "source": [
    "Hasta el momento ya logramos cargar los datos y todos con valores faltantes. Imagínate explorar cada conjunto de datos para ver sus valores faltantes, tendríamos que repetir este proceso una y otra vez, es por esto que vamos a aprender a modificar Pandas para extenderlo.\n",
    "\n",
    "Sucede que alrededor de Pandas hay todo un ecosistema diseñado específicamente para la preparación de los datos, para análisis y visualización. De tal forma que los análisis los podamos ejecutar teniendo una base común (Pandas).\n",
    "\n",
    "Así pasamos de usar las funciones básicas o por defecto de Pandas a personalizarlo para poder compartir con la comunidad y así crecer en nuestros análisis.\n",
    "\n",
    "Vamos a correr el notebook tutorial to extend Pandas que contiene las funciones que nos ayudaran a extender la API de Pandas."
   ]
  },
  {
   "cell_type": "markdown",
   "metadata": {},
   "source": [
    "## Crear una nueva clase para extender Pandas"
   ]
  },
  {
   "cell_type": "code",
   "execution_count": 21,
   "metadata": {},
   "outputs": [
    {
     "name": "stderr",
     "output_type": "stream",
     "text": [
      "/tmp/ipykernel_2214/2515607805.py:4: UserWarning: registration of accessor <class '__main__.MissingMethods'> under name 'missing' for type <class 'pandas.core.frame.DataFrame'> is overriding a preexisting attribute with the same name.\n",
      "  class MissingMethods:\n"
     ]
    }
   ],
   "source": [
    "#Definir una clase\n",
    "@pd.api.extensions.register_dataframe_accessor(\"missing\")\n",
    "#La linea anterior es un decorador\n",
    "class MissingMethods:\n",
    "    def __init__(self, pandas_obj):\n",
    "        self._df = pandas_obj\n",
    "\n",
    "    def number_missing(self):\n",
    "        return self._df.isna().sum().sum()\n",
    "\n",
    "    def number_complete(self):\n",
    "        return self._df.size - self._df.missing.number_missing()"
   ]
  },
  {
   "cell_type": "markdown",
   "metadata": {},
   "source": [
    "El nombre del acceso es `missing`, el parámetro de la primera linea.\n",
    "\n",
    "```py\n",
    "@pd.api.extensions.register_dataframe_accessor(\"missing\")\n",
    "```"
   ]
  },
  {
   "cell_type": "markdown",
   "metadata": {},
   "source": [
    "## Probar su uso "
   ]
  },
  {
   "cell_type": "markdown",
   "metadata": {},
   "source": [
    "### Librerias"
   ]
  },
  {
   "cell_type": "code",
   "execution_count": 22,
   "metadata": {},
   "outputs": [],
   "source": [
    "import missingno    #Visualizar valores faltantes \n",
    "import numpy as np\n",
    "import janitor      #Crear pipelines de limpieza de datos\n",
    "import matplotlib.pyplot as plt\n",
    "import pandas as pd\n",
    "import pyreadr      #Leer archivos adr para este curso\n",
    "import seaborn as sns\n",
    "import session_info\n",
    "import upsetplot    #Para gráfica de relaciones \n",
    "                    #de nuestros valores faltantes\n",
    "df = pd.read_csv('./dataset/pima-indians-diabetes.csv',sep=',')"
   ]
  },
  {
   "cell_type": "markdown",
   "metadata": {},
   "source": [
    "### Codigo para probar"
   ]
  },
  {
   "cell_type": "code",
   "execution_count": 5,
   "metadata": {},
   "outputs": [
    {
     "ename": "AttributeError",
     "evalue": "'DataFrame' object has no attribute 'missing'",
     "output_type": "error",
     "traceback": [
      "\u001b[0;31m---------------------------------------------------------------------------\u001b[0m",
      "\u001b[0;31mAttributeError\u001b[0m                            Traceback (most recent call last)",
      "\u001b[0;32m/tmp/ipykernel_2214/1963652281.py\u001b[0m in \u001b[0;36m?\u001b[0;34m()\u001b[0m\n\u001b[0;32m----> 1\u001b[0;31m \u001b[0mdf\u001b[0m\u001b[0;34m.\u001b[0m\u001b[0mmissing\u001b[0m\u001b[0;34m\u001b[0m\u001b[0;34m\u001b[0m\u001b[0m\n\u001b[0m",
      "\u001b[0;32m~/miniforge3/envs/deteccion/lib/python3.9/site-packages/pandas/core/generic.py\u001b[0m in \u001b[0;36m?\u001b[0;34m(self, name)\u001b[0m\n\u001b[1;32m   6295\u001b[0m             \u001b[0;32mand\u001b[0m \u001b[0mname\u001b[0m \u001b[0;32mnot\u001b[0m \u001b[0;32min\u001b[0m \u001b[0mself\u001b[0m\u001b[0;34m.\u001b[0m\u001b[0m_accessors\u001b[0m\u001b[0;34m\u001b[0m\u001b[0;34m\u001b[0m\u001b[0m\n\u001b[1;32m   6296\u001b[0m             \u001b[0;32mand\u001b[0m \u001b[0mself\u001b[0m\u001b[0;34m.\u001b[0m\u001b[0m_info_axis\u001b[0m\u001b[0;34m.\u001b[0m\u001b[0m_can_hold_identifiers_and_holds_name\u001b[0m\u001b[0;34m(\u001b[0m\u001b[0mname\u001b[0m\u001b[0;34m)\u001b[0m\u001b[0;34m\u001b[0m\u001b[0;34m\u001b[0m\u001b[0m\n\u001b[1;32m   6297\u001b[0m         ):\n\u001b[1;32m   6298\u001b[0m             \u001b[0;32mreturn\u001b[0m \u001b[0mself\u001b[0m\u001b[0;34m[\u001b[0m\u001b[0mname\u001b[0m\u001b[0;34m]\u001b[0m\u001b[0;34m\u001b[0m\u001b[0;34m\u001b[0m\u001b[0m\n\u001b[0;32m-> 6299\u001b[0;31m         \u001b[0;32mreturn\u001b[0m \u001b[0mobject\u001b[0m\u001b[0;34m.\u001b[0m\u001b[0m__getattribute__\u001b[0m\u001b[0;34m(\u001b[0m\u001b[0mself\u001b[0m\u001b[0;34m,\u001b[0m \u001b[0mname\u001b[0m\u001b[0;34m)\u001b[0m\u001b[0;34m\u001b[0m\u001b[0;34m\u001b[0m\u001b[0m\n\u001b[0m",
      "\u001b[0;31mAttributeError\u001b[0m: 'DataFrame' object has no attribute 'missing'"
     ]
    }
   ],
   "source": [
    "df.missing"
   ]
  },
  {
   "cell_type": "markdown",
   "metadata": {},
   "source": [
    "El error anterior es debido a que aún hemos colocado una linea para poder usar la clase que hemos construido. Nos referimos a:\n",
    "\n",
    "```py\n",
    "@pd.api.extensions.register_dataframe_accessor(\"missing\")\n",
    "```\n",
    "\n",
    "Una vez que la hemos añadido, volvemos a correr la celda con el código anteriormente generado."
   ]
  },
  {
   "cell_type": "code",
   "execution_count": 20,
   "metadata": {},
   "outputs": [
    {
     "data": {
      "text/plain": [
       "<__main__.MissingMethods at 0x7feb0bf7ea00>"
      ]
     },
     "execution_count": 20,
     "metadata": {},
     "output_type": "execute_result"
    }
   ],
   "source": [
    "df.missing"
   ]
  },
  {
   "cell_type": "markdown",
   "metadata": {},
   "source": [
    "Como podemos observar ya se ha actualizado y podemos usar la clase `MissingMethods`. Así que procederemos a añadir nuevos métodos a la clase."
   ]
  },
  {
   "cell_type": "code",
   "execution_count": 19,
   "metadata": {},
   "outputs": [
    {
     "data": {
      "text/plain": [
       "0"
      ]
     },
     "execution_count": 19,
     "metadata": {},
     "output_type": "execute_result"
    }
   ],
   "source": [
    "df.missing.number_missing()"
   ]
  },
  {
   "cell_type": "markdown",
   "metadata": {},
   "source": [
    "Para obtener el numero de datos completos.\n",
    "\n",
    "```py\n",
    "    def number_complete(self):\n",
    "        return self._df.notna().sum().sum()\n",
    "```\n",
    "\n",
    "Con esto tendríamos los valores completos o **no nulos**. Hay otra forma de hacerlo\n",
    "\n",
    "\n",
    "```py\n",
    "    def number_complete(self):\n",
    "        return self._df.size - self._df.missing.number_missing()\n",
    "```\n",
    "\n",
    "De esta manera reutilizamos el código que vamos generando"
   ]
  },
  {
   "cell_type": "code",
   "execution_count": 23,
   "metadata": {},
   "outputs": [
    {
     "data": {
      "text/plain": [
       "6912"
      ]
     },
     "execution_count": 23,
     "metadata": {},
     "output_type": "execute_result"
    }
   ],
   "source": [
    "df.missing.number_complete()"
   ]
  },
  {
   "cell_type": "markdown",
   "metadata": {},
   "source": [
    "Nos imprime la cantidad de valores completos que tenemos, así de esta manera deberías de construir funciones.\n",
    "```py\n",
    "    def proportion_missing(self):\n",
    "        pass\n",
    "```\n",
    "Con `pass` podemos asegurarnos de que creamos un código y que podemos posponer su escritura, así no genera problemas. Así podremos usar los métodos.\n",
    "\n",
    "Vamos a cargar la librería con los métodos para extender Pandas. Vamos a ejecutarlo de la siguiente forma:"
   ]
  },
  {
   "cell_type": "markdown",
   "metadata": {},
   "source": [
    "## Extras\n",
    "[Pandas Missing](https://jvelezmagic.github.io/pandas-missing/basic_numerical_summaries.html)"
   ]
  }
 ],
 "metadata": {
  "kernelspec": {
   "display_name": "deteccion",
   "language": "python",
   "name": "python3"
  },
  "language_info": {
   "codemirror_mode": {
    "name": "ipython",
    "version": 3
   },
   "file_extension": ".py",
   "mimetype": "text/x-python",
   "name": "python",
   "nbconvert_exporter": "python",
   "pygments_lexer": "ipython3",
   "version": "3.9.19"
  }
 },
 "nbformat": 4,
 "nbformat_minor": 2
}
